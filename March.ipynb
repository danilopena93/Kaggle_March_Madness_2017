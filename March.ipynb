{
 "cells": [
  {
   "cell_type": "markdown",
   "metadata": {},
   "source": [
    "Data preparing for neural network training. We will use the average performance of a team of two previous years' TourneyCompactResult and current year's RegularSeasonDetailedResults as X_train, plus two features: previous two years' Tourney match number and current year's win_rate. The train data format is h(win_team_detail_result + lose_team_detail_result) = 1 and h(lose_team_detail_result + win_team_detail_result) = 0.\n",
    "To predict 2017's result, we will need 2017's regular seson detail result."
   ]
  },
  {
   "cell_type": "code",
   "execution_count": 7,
   "metadata": {
    "collapsed": false
   },
   "outputs": [],
   "source": [
    "import sys\n",
    "import numpy as np\n",
    "import pandas as pd\n",
    "import matplotlib\n",
    "from sklearn.linear_model import LogisticRegression\n",
    "from sklearn import metrics\n",
    "from sklearn.metrics import roc_auc_score\n",
    "from sklearn.utils import shuffle\n",
    "#from sklearn.model_selection import cross_val_score\n",
    "#from sklearn.model_selection import GridSearchCV\n",
    "#from sklearn.metrics import roc_curve, auc\n",
    "#from sklearn import metrics\n",
    "#from sklearn.cross_validation import train_test_split\n"
   ]
  },
  {
   "cell_type": "code",
   "execution_count": 9,
   "metadata": {
    "collapsed": false
   },
   "outputs": [
    {
     "name": "stdout",
     "output_type": "stream",
     "text": [
      "   Season  Daynum  Wteam  Wscore  Lteam  Lscore Wloc  Numot\n",
      "0    1985      20   1228      81   1328      64    N      0\n",
      "1    1985      25   1106      77   1354      70    H      0\n",
      "2    1985      25   1112      63   1223      56    H      0\n",
      "3    1985      25   1165      70   1432      54    H      0\n",
      "4    1985      25   1192      86   1447      74    H      0\n",
      "   Season  Daynum  Wteam  Wscore  Lteam  Lscore Wloc  Numot  Wfgm  Wfga ...   \\\n",
      "0    2003      10   1104      68   1328      62    N      0    27    58 ...    \n",
      "1    2003      10   1272      70   1393      63    N      0    26    62 ...    \n",
      "2    2003      11   1266      73   1437      61    N      0    24    58 ...    \n",
      "3    2003      11   1296      56   1457      50    N      0    18    38 ...    \n",
      "4    2003      11   1400      77   1208      71    N      0    30    61 ...    \n",
      "\n",
      "   Lfga3  Lftm  Lfta  Lor  Ldr  Last  Lto  Lstl  Lblk  Lpf  \n",
      "0     10    16    22   10   22     8   18     9     2   20  \n",
      "1     24     9    20   20   25     7   12     8     6   16  \n",
      "2     26    14    23   31   22     9   12     2     5   23  \n",
      "3     22     8    15   17   20     9   19     4     3   23  \n",
      "4     16    17    27   21   15    12   10     7     1   14  \n",
      "\n",
      "[5 rows x 34 columns]\n",
      "   Season     Dayzero Regionw    Regionx    Regiony    Regionz\n",
      "0    1985  10/29/1984    East       West    Midwest  Southeast\n",
      "1    1986  10/28/1985    East    Midwest  Southeast       West\n",
      "2    1987  10/27/1986    East  Southeast    Midwest       West\n",
      "3    1988   11/2/1987    East    Midwest  Southeast       West\n",
      "4    1989  10/31/1988    East       West    Midwest  Southeast\n",
      "   Team_Id    Team_Name\n",
      "0     1101  Abilene Chr\n",
      "1     1102    Air Force\n",
      "2     1103        Akron\n",
      "3     1104      Alabama\n",
      "4     1105  Alabama A&M\n",
      "   Season  Daynum  Wteam  Wscore  Lteam  Lscore Wloc  Numot\n",
      "0    1985     136   1116      63   1234      54    N      0\n",
      "1    1985     136   1120      59   1345      58    N      0\n",
      "2    1985     136   1207      68   1250      43    N      0\n",
      "3    1985     136   1229      58   1425      55    N      0\n",
      "4    1985     136   1242      49   1325      38    N      0\n",
      "   Season  Daynum  Wteam  Wscore  Lteam  Lscore Wloc  Numot  Wfgm  Wfga ...   \\\n",
      "0    2003     134   1421      92   1411      84    N      1    32    69 ...    \n",
      "1    2003     136   1112      80   1436      51    N      0    31    66 ...    \n",
      "2    2003     136   1113      84   1272      71    N      0    31    59 ...    \n",
      "3    2003     136   1141      79   1166      73    N      0    29    53 ...    \n",
      "4    2003     136   1143      76   1301      74    N      1    27    64 ...    \n",
      "\n",
      "   Lfga3  Lftm  Lfta  Lor  Ldr  Last  Lto  Lstl  Lblk  Lpf  \n",
      "0     31    14    31   17   28    16   15     5     0   22  \n",
      "1     16     7     7    8   26    12   17    10     3   15  \n",
      "2     28    14    21   20   22    11   12     2     5   18  \n",
      "3     17    12    17   14   17    20   21     6     6   21  \n",
      "4     21    15    20   10   26    16   14     5     8   19  \n",
      "\n",
      "[5 rows x 34 columns]\n",
      "   Season Seed  Team\n",
      "0    1985  W01  1207\n",
      "1    1985  W02  1210\n",
      "2    1985  W03  1228\n",
      "3    1985  W04  1260\n",
      "4    1985  W05  1374\n",
      "   Season  Slot Strongseed Weakseed\n",
      "0    1985  R1W1        W01      W16\n",
      "1    1985  R1W2        W02      W15\n",
      "2    1985  R1W3        W03      W14\n",
      "3    1985  R1W4        W04      W13\n",
      "4    1985  R1W5        W05      W12\n",
      "               id  pred\n",
      "0  2013_1103_1107   0.5\n",
      "1  2013_1103_1112   0.5\n",
      "2  2013_1103_1125   0.5\n",
      "3  2013_1103_1129   0.5\n",
      "4  2013_1103_1137   0.5\n"
     ]
    }
   ],
   "source": [
    "data = {}\n",
    "csv = ['/RegularSeasonCompactResults.csv',\n",
    "'/RegularSeasonDetailedResults.csv',\n",
    "'/Seasons.csv',\n",
    "'/Teams.csv',\n",
    "'/TourneyCompactResults.csv',\n",
    "'/TourneyDetailedResults.csv',\n",
    "'/TourneySeeds.csv',\n",
    "'/TourneySlots.csv',\n",
    "'/sample_submission.csv']\n",
    "path = \"/Users/wangliran/Desktop/kaggle/March-Machine-Learning-Mania-2017/data\"\n",
    "for file in csv:\n",
    "    data[file[1:-4]] = pd.read_csv(path+file)\n",
    "    print(data[file[1:-4]].head(5))\n",
    "# df_seeds = pd.read_csv(path + csv[6])\n",
    "# df_tour = pd.read_csv(path + csv[4])\n",
    "#print(data[\"TourneySeeds\"].head())\n",
    "\n",
    "# seed = data[\"TourneySeeds\"]\n",
    "# seed[\"Wteam\"] = seed[\"Team\"]\n"
   ]
  },
  {
   "cell_type": "markdown",
   "metadata": {},
   "source": [
    "Notice that compact result ranges from 1985-2016, while detailed result only ranges from 2003-2016. We will use the detailed result data, so we start from 2003."
   ]
  },
  {
   "cell_type": "markdown",
   "metadata": {},
   "source": [
    "Our aim: 1. get regular season win_rate\n",
    "         2. get tourney season match number"
   ]
  },
  {
   "cell_type": "code",
   "execution_count": 42,
   "metadata": {
    "collapsed": false
   },
   "outputs": [
    {
     "data": {
      "text/plain": [
       "0.9090909090909091"
      ]
     },
     "execution_count": 42,
     "metadata": {},
     "output_type": "execute_result"
    }
   ],
   "source": [
    "def get_regular_win_rate(team, season): #int, int\n",
    "    d = data[\"RegularSeasonCompactResults\"][data[\"RegularSeasonCompactResults\"][\"Season\"] == season]\n",
    "    team_season_filter = (d[\"Wteam\"] == team) | (d[\"Lteam\"] == team) \n",
    "    team_win_filter = (d[\"Wteam\"] == team) \n",
    "    #print d[team_season_filter]\n",
    "    return float(d[team_win_filter].shape[0])/d[team_season_filter].shape[0]\n",
    "get_regular_win_rate(1272, 2006)"
   ]
  },
  {
   "cell_type": "code",
   "execution_count": 58,
   "metadata": {
    "collapsed": false
   },
   "outputs": [
    {
     "data": {
      "text/plain": [
       "4"
      ]
     },
     "execution_count": 58,
     "metadata": {},
     "output_type": "execute_result"
    }
   ],
   "source": [
    "def get_match_number(team, season):\n",
    "    d = data[\"TourneyCompactResults\"][data[\"TourneyCompactResults\"][\"Season\"] == season]\n",
    "    team_season_filter = (d[\"Wteam\"] == team) | (d[\"Lteam\"] == team) \n",
    "    return d[team_season_filter].shape[0]\n",
    "get_match_number(1272, 2006)"
   ]
  },
  {
   "cell_type": "markdown",
   "metadata": {},
   "source": [
    "Now we consider the average performance of each team in season_list"
   ]
  },
  {
   "cell_type": "code",
   "execution_count": 173,
   "metadata": {
    "collapsed": false
   },
   "outputs": [
    {
     "name": "stdout",
     "output_type": "stream",
     "text": [
      "     Wteam  Wscore  Wfgm  Wfga  Wfgm3  Wfga3  Wftm  Wfta  Wor  Wdr  Wast  Wto  \\\n",
      "87    1272      59    23    59      9     27     4     7   14   22    16    9   \n",
      "216   1272      94    37    61     11     22     9    16   12   21    16   13   \n",
      "237   1272      72    23    48      7     16    19    26    7   18    15    9   \n",
      "242   1272      80    31    60      6     15    12    18   11   30    11   13   \n",
      "108   1272      53    20    50      6     17     7    14   11   11     9   12   \n",
      "250   1272      45    17    54      2     17     9    15   16   25     5   18   \n",
      "\n",
      "     Wstl  Wblk  Wpf  \n",
      "87      3     4   15  \n",
      "216    10     2   21  \n",
      "237    10     2   20  \n",
      "242    10     7   18  \n",
      "108     6     3   15  \n",
      "250     8     1   29  \n",
      "       Wteam  Wscore  Wfgm  Wfga  Wfgm3  Wfga3  Wftm  Wfta  Wor  Wdr  Wast  \\\n",
      "13919   1272      79    27    61      6     21    19    26   10   35    17   \n",
      "13936   1272      87    33    70      5     14    16    26   15   28    14   \n",
      "14209   1272      88    31    58      8     17    18    28   12   28    12   \n",
      "14386   1272     108    39    80      6     21    24    45   30   35    18   \n",
      "14474   1272      97    32    65     14     30    19    26   14   34    25   \n",
      "14599   1272      91    32    75     11     21    16    25   19   26    18   \n",
      "14855   1272      97    29    52     12     24    27    36   14   19    20   \n",
      "15035   1272      72    28    64      5     19    11    17   16   34     9   \n",
      "15158   1272      76    29    72      8     25    10    17   23   22    17   \n",
      "15327   1272      83    31    63      8     25    13    25   11   31    18   \n",
      "15474   1272      90    35    71      7     15    13    17   19   22    19   \n",
      "15684   1272      83    30    60      6     18    17    23   15   23    18   \n",
      "15907   1272      73    25    52      9     26    14    17   10   20    16   \n",
      "15995   1272      77    26    71     10     35    15    20   19   26    18   \n",
      "16150   1272      73    28    55      8     16     9    18   11   20    19   \n",
      "16316   1272      88    29    67      8     27    22    29   15   34    17   \n",
      "16473   1272      85    27    50      5     12    26    38   10   22    14   \n",
      "16688   1272      73    25    68     10     30    13    21   25   29    16   \n",
      "16793   1272      94    29    57     10     21    26    34   14   24    20   \n",
      "16969   1272      84    29    59      5     16    21    35   17   21    16   \n",
      "17115   1272      84    26    61      9     31    23    26   17   20    16   \n",
      "17438   1272      91    31    63      8     19    21    28   17   21    17   \n",
      "17572   1272      80    26    62      3     13    25    28   15   32    11   \n",
      "17764   1272     105    42    73     10     15    11    15   15   23    25   \n",
      "17921   1272      66    23    58      4     15    16    24   14   21     8   \n",
      "18070   1272      78    23    54      6     22    26    41   13   29    13   \n",
      "18379   1272      69    20    49      6     18    23    34   12   29    12   \n",
      "18523   1272      75    27    65     11     28    10    17   18   20    13   \n",
      "18573   1272      68    24    54      6     14    14    23   12   33    17   \n",
      "18603   1272      57    19    57      7     23    12    15   15   29    12   \n",
      "14234   1272      67    27    66      6     23     7    13   18   22    13   \n",
      "15610   1272      58    20    70      6     32    12    16   19   26    12   \n",
      "18286   1272      74    24    66      8     27    18    25   18   28     9   \n",
      "\n",
      "       Wto  Wstl  Wblk  Wpf  \n",
      "13919   14    12    11   25  \n",
      "13936   13     7     2   29  \n",
      "14209   19     6     5   23  \n",
      "14386   21    12    11   25  \n",
      "14474   22     9    15   13  \n",
      "14599   18    10     8   24  \n",
      "14855   19     8     3   23  \n",
      "15035   15     9     4   22  \n",
      "15158   18    18     8   12  \n",
      "15327    8     4     4   21  \n",
      "15474   21    14     7   22  \n",
      "15684   14    16     7   19  \n",
      "15907   15     8     8   14  \n",
      "15995   14    10     8   23  \n",
      "16150    9     7     8   14  \n",
      "16316   19     7    10   21  \n",
      "16473   12     6     1   30  \n",
      "16688   19     5     7   13  \n",
      "16793   15    12     6   15  \n",
      "16969   16    17     6   26  \n",
      "17115   18    14     7   20  \n",
      "17438   14     8     4   20  \n",
      "17572   14    16     9   16  \n",
      "17764   13    17     4   22  \n",
      "17921   13     9     6   19  \n",
      "18070   11     6     9   17  \n",
      "18379   20     3    10   23  \n",
      "18523   14    13     5   12  \n",
      "18573   17     6     8   18  \n",
      "18603   15     4     6   16  \n",
      "14234   13     9     6   23  \n",
      "15610   22    11     4   24  \n",
      "18286   17    10     6   23  \n",
      "Wteam          1272.000000\n",
      "Wscore           78.794872\n",
      "Wfgm             27.615385\n",
      "Wfga             61.538462\n",
      "Wfgm3             7.487179\n",
      "Wfga3            21.205128\n",
      "Wftm             16.076923\n",
      "Wfta             23.692308\n",
      "Wor              15.205128\n",
      "Wdr              25.461538\n",
      "Wast             15.153846\n",
      "Wto              15.282051\n",
      "Wstl              9.487179\n",
      "Wblk              6.205128\n",
      "Wpf              20.128205\n",
      "win_rate          0.882970\n",
      "game_number       3.692308\n",
      "Season         2006.000000\n",
      "dtype: float64\n"
     ]
    }
   ],
   "source": [
    "def get_team_detail(tp, team, season_list):\n",
    "    if tp == \"regular\":\n",
    "        d = data[\"RegularSeasonDetailedResults\"]\n",
    "    elif tp == \"tourney\":\n",
    "        d = data[\"TourneyDetailedResults\"]\n",
    "    team_win_filter = (d[\"Wteam\"] == team) & (d[\"Season\"]>= season_list[0]) & (d[\"Season\"]<= season_list[-1])\n",
    "    team_lose_filter = (d[\"Lteam\"] == team) & (d[\"Season\"]>= season_list[0]) & (d[\"Season\"]<= season_list[-1])\n",
    "    win_detail_col = [\"Wteam\", \"Wscore\", \"Wfgm\", \"Wfga\", \"Wfgm3\", \"Wfga3\", \"Wftm\", \"Wfta\",\n",
    "                     \"Wor\", \"Wdr\", \"Wast\", \"Wto\", \"Wstl\", \"Wblk\", \"Wpf\"]\n",
    "    lose_detail_col = [\"Lteam\", \"Lscore\", \"Lfgm\", \"Lfga\", \"Lfgm3\", \"Lfga3\", \"Lftm\", \"Lfta\",\n",
    "                      \"Lor\", \"Ldr\", \"Last\", \"Lto\", \"Lstl\", \"Lblk\", \"Lpf\"]\n",
    "    d1 = pd.DataFrame()\n",
    "    combined1 = d[team_win_filter][win_detail_col]\n",
    "    combined2 = d[team_lose_filter][lose_detail_col]\n",
    "    d1[win_detail_col] = combined2[lose_detail_col]\n",
    "    #combined = combined1.append(combined2)\n",
    "    combined = combined1.append(d1)\n",
    "    print(combined)\n",
    "    temp1 = 0\n",
    "    temp2 = 0\n",
    "    for year in season_list:\n",
    "        temp1 += get_regular_win_rate(team, year)\n",
    "        temp2 += get_match_number(team, year)\n",
    "    combined[\"win_rate\"] = temp1/len(season_list)\n",
    "    combined[\"game_number\"] = temp2/len(season_list)\n",
    "    return combined\n",
    "a = get_team_detail(\"tourney\", 1272, [2004,2005,2006])\n",
    "b = get_team_detail(\"regular\", 1272, [2006])\n",
    "c = a.append(b)\n",
    "d = c.apply(np.mean)\n",
    "d[\"Season\"] = 2006\n",
    "print(d)\n"
   ]
  },
  {
   "cell_type": "code",
   "execution_count": null,
   "metadata": {
    "collapsed": false
   },
   "outputs": [],
   "source": []
  },
  {
   "cell_type": "code",
   "execution_count": 170,
   "metadata": {
    "collapsed": false
   },
   "outputs": [
    {
     "name": "stdout",
     "output_type": "stream",
     "text": [
      "   Season  Team  n_seed\n",
      "0    1985  1207       1\n",
      "1    1985  1210       2\n",
      "2    1985  1228       3\n",
      "3    1985  1260       4\n",
      "4    1985  1374       5\n"
     ]
    }
   ],
   "source": [
    "# def get_seed_num(season, team):\n",
    "#     d = data[\"TourneySeeds\"]\n",
    "#     filter = (d[\"Team\"] == team) & (d[\"Season\"] == season)\n",
    "#     return d[filter][\"Seed\"]\n",
    "# get_seed_num(2006, 1272)\n",
    "def seed_to_int(seed):\n",
    "    \"\"\"Get just the digits from the seeding. Return as int\"\"\"\n",
    "    s_int = int(seed[1:3])\n",
    "    return s_int\n",
    "# data[\"TourneySeeds\"][\"n_seed\"] = data[\"TourneySeeds\"][\"Seed\"].apply(seed_to_int, axis=1)\n",
    "# data[\"TourneySeeds\"].drop(labels=['Seed'], inplace=True, axis=1)\n",
    "# print(data[\"TourneySeeds\"].head())\n",
    "print(data[\"TourneySeeds\"].head())"
   ]
  },
  {
   "cell_type": "markdown",
   "metadata": {},
   "source": [
    "Prepare match detail for each seed starting from 2003, with n years' tourney, m years' regular match detail."
   ]
  },
  {
   "cell_type": "code",
   "execution_count": 171,
   "metadata": {
    "collapsed": false
   },
   "outputs": [
    {
     "name": "stdout",
     "output_type": "stream",
     "text": [
      "      Season  Team  n_seed\n",
      "1284    2005  1449       1\n",
      "1285    2005  1448       2\n",
      "1286    2005  1211       3\n",
      "1287    2005  1257       4\n",
      "1288    2005  1210       5\n",
      "(798, 3)\n",
      "Season    2005\n",
      "Team      1449\n",
      "n_seed       1\n",
      "Name: 1284, dtype: int64\n",
      "   Season       Wast      Wblk        Wdr       Wfga      Wfga3       Wfgm  \\\n",
      "0  2005.0  19.343750  2.687500  22.718750  65.062500  19.125000  31.625000   \n",
      "1  2005.0  15.444444  3.694444  25.583333  58.805556  18.777778  28.777778   \n",
      "2  2005.0  15.727273  3.424242  26.606061  55.575758  13.727273  27.606061   \n",
      "3  2005.0  15.970588  3.794118  25.882353  57.588235  24.176471  26.794118   \n",
      "4  2005.0  14.527778  4.888889  26.638889  58.694444  17.972222  26.444444   \n",
      "\n",
      "      Wfgm3       Wfta       Wftm        Wor        Wpf     Wscore      Wstl  \\\n",
      "0  7.406250  21.875000  16.000000  14.906250  20.968750  86.656250  8.281250   \n",
      "1  7.500000  26.833333  18.472222  13.555556  19.333333  83.527778  8.333333   \n",
      "2  5.121212  26.000000  19.303030  11.909091  17.636364  79.636364  5.424242   \n",
      "3  9.647059  23.176471  16.882353  12.647059  18.882353  80.117647  9.058824   \n",
      "4  5.888889  21.611111  14.833333  12.444444  19.972222  73.611111  8.416667   \n",
      "\n",
      "    Wteam        Wto  game_number  win_rate  \n",
      "0  1449.0  14.656250     2.906250  0.828183  \n",
      "1  1448.0  14.555556     2.000000  0.826817  \n",
      "2  1211.0  13.363636     2.000000  0.858968  \n",
      "3  1257.0  14.176471     4.647059  0.859838  \n",
      "4  1210.0  15.055556     2.166667  0.629340  \n"
     ]
    }
   ],
   "source": [
    "n = 2\n",
    "m = 1\n",
    "season_filter = data[\"TourneySeeds\"][\"Season\"] >= 2003+n\n",
    "seed_team = data[\"TourneySeeds\"][season_filter]\n",
    "print(seed_team.head())\n",
    "print(seed_team.shape)\n",
    "print(seed_team.iloc[0])\n",
    "team_detail = pd.DataFrame()\n",
    "for i in range(seed_team.shape[0]):\n",
    "    team = seed_team.iloc[i][\"Team\"]\n",
    "    year = seed_team.iloc[i][\"Season\"]\n",
    "    a = get_team_detail(\"tourney\", team, range(year-n, year))\n",
    "    b = get_team_detail(\"regular\", team, range(year+1-m, year+1))\n",
    "    c = a.append(b)\n",
    "    d = c.apply(np.mean)\n",
    "    d[\"Season\"] = year\n",
    "    team_detail = team_detail.append(d, ignore_index=True)\n",
    "print(team_detail.head())"
   ]
  },
  {
   "cell_type": "code",
   "execution_count": 172,
   "metadata": {
    "collapsed": false
   },
   "outputs": [
    {
     "name": "stdout",
     "output_type": "stream",
     "text": [
      "['Season', 'Wast', 'Wblk', 'Wdr', 'Wfga', 'Wfga3', 'Wfgm', 'Wfgm3', 'Wfta', 'Wftm', 'Wor', 'Wpf', 'Wscore', 'Wstl', 'Wteam', 'Wto', 'game_number', 'win_rate']\n"
     ]
    }
   ],
   "source": [
    "team_season_detail = team_detail\n",
    "print(team_season_detail.columns.tolist())"
   ]
  },
  {
   "cell_type": "markdown",
   "metadata": {},
   "source": [
    "Now we will prepare training and testing data. "
   ]
  },
  {
   "cell_type": "code",
   "execution_count": 198,
   "metadata": {
    "collapsed": false
   },
   "outputs": [
    {
     "name": "stdout",
     "output_type": "stream",
     "text": [
      "2005\n",
      "         Last      Lblk        Ldr  Lfga      Lfga3       Lfgm     Lfgm3  \\\n",
      "64        NaN       NaN        NaN   NaN        NaN        NaN       NaN   \n",
      "63  13.137931  3.862069  24.310345  59.0  20.241379  23.655172  6.103448   \n",
      "\n",
      "         Lfta       Lftm  Lgame_number    ...        Wfgm3       Wfta  \\\n",
      "64        NaN        NaN           NaN    ...     6.275862  21.034483   \n",
      "63  25.517241  15.655172           1.0    ...          NaN        NaN   \n",
      "\n",
      "         Wftm        Wor        Wpf     Wscore      Wstl        Wto  \\\n",
      "64  13.931034  11.862069  17.655172  70.344828  6.965517  12.034483   \n",
      "63        NaN        NaN        NaN        NaN       NaN        NaN   \n",
      "\n",
      "    game_number  win_rate  \n",
      "64          2.0   0.37931  \n",
      "63          NaN       NaN  \n",
      "\n",
      "[2 rows x 32 columns]\n"
     ]
    }
   ],
   "source": [
    "d = data[\"TourneyDetailedResults\"]\n",
    "d = d[d[\"Season\"]>=2003+n]\n",
    "print(d.iloc[0][\"Season\"])\n",
    "\n",
    "win_detail_col = ['Wast', 'Wblk', 'Wdr', 'Wfga', 'Wfga3', 'Wfgm', 'Wfgm3', 'Wfta',\n",
    "                  'Wftm', 'Wor', 'Wpf', 'Wscore', 'Wstl', 'Wto', 'game_number', 'win_rate']\n",
    "lose_detail_col = ['Last', 'Lblk', 'Ldr', 'Lfga', 'Lfga3', 'Lfgm', 'Lfgm3', 'Lfta',\n",
    "                  'Lftm', 'Lor', 'Lpf', 'Lscore', 'Lstl', 'Lto', 'Lgame_number', 'Lwin_rate']\n",
    "w_filter = (team_detail[\"Season\"] == d.iloc[0][\"Season\"]) & (team_detail[\"Wteam\"]\n",
    "                                                                     == d.iloc[0][\"Wteam\"])\n",
    "l_filter = (team_detail[\"Season\"] == d.iloc[0][\"Season\"]) & (team_detail[\"Wteam\"]\n",
    "                                                                     == d.iloc[0][\"Lteam\"])\n",
    "wteam_detail = team_detail[w_filter][win_detail_col]\n",
    "lteam_detail = team_detail[l_filter][win_detail_col]\n",
    "wteam_detail[lose_detail_col] = lteam_detail[win_detail_col]\n",
    "l = pd.DataFrame()\n",
    "l[lose_detail_col] = lteam_detail[win_detail_col]\n",
    "wteam_detail[lose_detail_col] = lteam_detail[win_detail_col]\n",
    "# l1 = pd.concat([wteam_detail[win_detail_col], l], axis = 0)\n",
    "l1 = wteam_detail[win_detail_col].append(l)\n",
    "\n",
    "print(l1)\n",
    "def prepare_train_test():\n",
    "    train_test = pd.DataFrame\n",
    "    for i in range(d.shape[0]):\n",
    "        w_filter = (team_detail[\"Season\"] == d.iloc[i][\"Season\"]) & (team_detail[\"Wteam\"]\n",
    "                                                                     == d.iloc[i][\"Wteam\"])\n",
    "        l_filter = (team_detail[\"Season\"] == d.iloc[i][\"Season\"]) & (team_detail[\"Wteam\"]\n",
    "                                                                     == d.iloc[i][\"Lteam\"])\n",
    "        wteam_detail = team_detail[w_filter]\n",
    "        lteam_detail = team_detail[l_filter]\n",
    "        l_detail[lose_detail_col] = lteam_detail[win_detail_col] \n",
    "        \n",
    "        result1[win_detail_col] = wteam_detail\n",
    "        result1[lose_detail_col] = lteam_detail\n",
    "        #result1 = pd.concat([wteam_detail, lteam_detail], axis=1)\n",
    "        result1[\"label\"] = 1\n",
    "        #result2[win_detail_col]\n",
    "        \n",
    "        \n",
    "        \n",
    "        "
   ]
  },
  {
   "cell_type": "markdown",
   "metadata": {},
   "source": [
    "Reading the data: season + daynum + team as unique key.\n"
   ]
  },
  {
   "cell_type": "code",
   "execution_count": null,
   "metadata": {
    "collapsed": true
   },
   "outputs": [],
   "source": []
  }
 ],
 "metadata": {
  "anaconda-cloud": {},
  "kernelspec": {
   "display_name": "Python [conda root]",
   "language": "python",
   "name": "conda-root-py"
  },
  "language_info": {
   "codemirror_mode": {
    "name": "ipython",
    "version": 3
   },
   "file_extension": ".py",
   "mimetype": "text/x-python",
   "name": "python",
   "nbconvert_exporter": "python",
   "pygments_lexer": "ipython3",
   "version": "3.5.2"
  }
 },
 "nbformat": 4,
 "nbformat_minor": 1
}
